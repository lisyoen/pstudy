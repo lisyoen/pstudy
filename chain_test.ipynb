{
 "cells": [
  {
   "cell_type": "markdown",
   "metadata": {},
   "source": [
    "* 설치"
   ]
  },
  {
   "cell_type": "code",
   "execution_count": 1,
   "metadata": {},
   "outputs": [],
   "source": [
    "%%capture --no-stderr\n",
    "%pip install python-dotenv langchain langchain-openai"
   ]
  },
  {
   "cell_type": "markdown",
   "metadata": {},
   "source": [
    "* 실행"
   ]
  },
  {
   "cell_type": "code",
   "execution_count": 2,
   "metadata": {},
   "outputs": [
    {
     "data": {
      "text/plain": [
       "True"
      ]
     },
     "execution_count": 2,
     "metadata": {},
     "output_type": "execute_result"
    }
   ],
   "source": [
    "import os\n",
    "from dotenv import load_dotenv\n",
    "\n",
    "load_dotenv()"
   ]
  },
  {
   "cell_type": "code",
   "execution_count": 3,
   "metadata": {},
   "outputs": [],
   "source": [
    "from langchain_openai import ChatOpenAI\n",
    "llm = ChatOpenAI(model=\"gpt-4o\")"
   ]
  },
  {
   "cell_type": "code",
   "execution_count": 4,
   "metadata": {},
   "outputs": [
    {
     "name": "stdout",
     "output_type": "stream",
     "text": [
      "content='2 # 3의 값은 문맥에 따라 다를 수 있습니다. 일반적인 수학적 연산으로는 정의되지 않은 연산이므로, 특정한 의미나 정의가 필요합니다. 예를 들어, 프로그래밍 언어나 특정 문제의 규칙에 따라 다른 값을 가질 수 있습니다. 추가적인 정보나 문맥을 제공해주시면 더 정확한 답변을 드릴 수 있습니다.' additional_kwargs={'refusal': None} response_metadata={'token_usage': {'completion_tokens': 87, 'prompt_tokens': 17, 'total_tokens': 104, 'completion_tokens_details': {'accepted_prediction_tokens': 0, 'audio_tokens': 0, 'reasoning_tokens': 0, 'rejected_prediction_tokens': 0}, 'prompt_tokens_details': {'audio_tokens': 0, 'cached_tokens': 0}}, 'model_name': 'gpt-4o-2024-08-06', 'system_fingerprint': 'fp_d28bcae782', 'finish_reason': 'stop', 'logprobs': None} id='run-bfe32d14-9a01-4af0-87e4-6641066553c2-0' usage_metadata={'input_tokens': 17, 'output_tokens': 87, 'total_tokens': 104, 'input_token_details': {'audio': 0, 'cache_read': 0}, 'output_token_details': {'audio': 0, 'reasoning': 0}}\n"
     ]
    }
   ],
   "source": [
    "# llm 다이렉트로 호출\n",
    "result = llm.invoke(\"2 # 3 값은 몇이야?\")\n",
    "print(result)"
   ]
  },
  {
   "cell_type": "code",
   "execution_count": 5,
   "metadata": {},
   "outputs": [
    {
     "name": "stdout",
     "output_type": "stream",
     "text": [
      "{'refusal': None,\n",
      " 'tool_calls': [{'function': {'arguments': '{\"a\":2,\"b\":3}',\n",
      "                              'name': 'operator_sharp'},\n",
      "                 'id': 'call_t41dWQT6J4bFD04KnMILTdaf',\n",
      "                 'type': 'function'}]}\n"
     ]
    }
   ],
   "source": [
    "from langchain_core.tools import tool\n",
    "from pprint import pprint\n",
    "\n",
    "@tool\n",
    "def operator_sharp(a: int, b: int) -> int:\n",
    "    \"\"\"calcurate a # b.\n",
    "\n",
    "    Args:\n",
    "        a: first int\n",
    "        b: second int\n",
    "    \"\"\"\n",
    "    #print(f\"call by llm operator # ({a}, {b})\")\n",
    "    return a * b\n",
    "\n",
    "#result = operator_charp({\"a\":10, \"b\":20})\n",
    "#print(result)\n",
    "\n",
    "llm_with_tools = llm.bind_tools([operator_sharp])\n",
    "result = llm_with_tools.invoke(\"2 # 3 값은 몇이야?\")\n",
    "#print(result)\n",
    "pprint(result.additional_kwargs)"
   ]
  },
  {
   "cell_type": "code",
   "execution_count": 6,
   "metadata": {},
   "outputs": [
    {
     "name": "stdout",
     "output_type": "stream",
     "text": [
      "[ToolMessage(content='6', name='operator_sharp', tool_call_id='call_SQnyypvG75MYwS8KGSoaH5n9')]\n"
     ]
    }
   ],
   "source": [
    "# chain으로 호출\n",
    "from operator import attrgetter\n",
    "from langchain_core.prompts import ChatPromptTemplate\n",
    "prompt = ChatPromptTemplate.from_messages([\n",
    "    (\"user\", \"{input}\")\n",
    "])\n",
    "\n",
    "chain = prompt | llm_with_tools | attrgetter(\"tool_calls\") | operator_sharp.map()\n",
    "result = chain.invoke(\"2 # 3하면 몇이야?\")\n",
    "print(result)\n"
   ]
  }
 ],
 "metadata": {
  "kernelspec": {
   "display_name": ".venv",
   "language": "python",
   "name": "python3"
  },
  "language_info": {
   "codemirror_mode": {
    "name": "ipython",
    "version": 3
   },
   "file_extension": ".py",
   "mimetype": "text/x-python",
   "name": "python",
   "nbconvert_exporter": "python",
   "pygments_lexer": "ipython3",
   "version": "3.11.2"
  }
 },
 "nbformat": 4,
 "nbformat_minor": 4
}
