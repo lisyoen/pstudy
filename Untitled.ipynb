{
 "cells": [
  {
   "cell_type": "code",
   "execution_count": 2,
   "id": "52cad80c-8400-40fc-9aa2-cc6f24d73750",
   "metadata": {},
   "outputs": [
    {
     "name": "stdout",
     "output_type": "stream",
     "text": [
      " * Serving Flask app '__main__'\n",
      " * Debug mode: off\n"
     ]
    },
    {
     "name": "stderr",
     "output_type": "stream",
     "text": [
      "\u001b[31m\u001b[1mWARNING: This is a development server. Do not use it in a production deployment. Use a production WSGI server instead.\u001b[0m\n",
      " * Running on all addresses (0.0.0.0)\n",
      " * Running on http://127.0.0.1:5000\n",
      " * Running on http://172.18.232.147:5000\n",
      "\u001b[33mPress CTRL+C to quit\u001b[0m\n",
      "127.0.0.1 - - [21/Feb/2025 20:02:39] \"GET / HTTP/1.1\" 200 -\n",
      "127.0.0.1 - - [21/Feb/2025 20:02:43] \"GET / HTTP/1.1\" 200 -\n"
     ]
    }
   ],
   "source": [
    "# Flask 모듈을 가져옵니다.\n",
    "from flask import Flask\n",
    "\n",
    "# Flask 앱 객체를 생성합니다.\n",
    "app = Flask(__name__)\n",
    "\n",
    "# 루트 경로('/')에 대한 뷰 함수를 정의합니다.\n",
    "# GET 요청을 받으면 'Hello, World!'라는 문자열을 반환합니다.\n",
    "@app.route('/')\n",
    "def hello_world():\n",
    "    return 'Hello, World!'\n",
    "\n",
    "# 직접 실행된 경우에만 아래의 코드를 실행합니다.\n",
    "if __name__ == '__main__':\n",
    "    # Flask 앱을 실행합니다.\n",
    "    # 모든 IP 주소에서 접근 가능하도록 설정하고 포트 5000을 사용합니다.\n",
    "    app.run(host='0.0.0.0', port=5000)\n"
   ]
  },
  {
   "cell_type": "code",
   "execution_count": null,
   "id": "a3472c77-1292-45a6-8d5c-1df8581897e4",
   "metadata": {},
   "outputs": [],
   "source": []
  },
  {
   "cell_type": "code",
   "execution_count": null,
   "id": "82bf12cc-d22b-4c7c-b284-4eca751d8016",
   "metadata": {},
   "outputs": [],
   "source": []
  }
 ],
 "metadata": {
  "kernelspec": {
   "display_name": "Python 3 (ipykernel)",
   "language": "python",
   "name": "python3"
  },
  "language_info": {
   "codemirror_mode": {
    "name": "ipython",
    "version": 3
   },
   "file_extension": ".py",
   "mimetype": "text/x-python",
   "name": "python",
   "nbconvert_exporter": "python",
   "pygments_lexer": "ipython3",
   "version": "3.12.9"
  }
 },
 "nbformat": 4,
 "nbformat_minor": 5
}
